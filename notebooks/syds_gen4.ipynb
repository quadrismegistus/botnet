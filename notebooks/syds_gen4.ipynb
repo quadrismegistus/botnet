{
 "cells": [
  {
   "cell_type": "code",
   "execution_count": 1,
   "metadata": {},
   "outputs": [
    {
     "name": "stdout",
     "output_type": "stream",
     "text": [
      "Found model file.\n",
      "gptj_model_load: loading model from '/Users/ryan/gpt4all_data/ggml-gpt4all-j-v1.3-groovy.bin' - please wait ...\n",
      "gptj_model_load: n_vocab = 50400\n",
      "gptj_model_load: n_ctx   = 2048\n",
      "gptj_model_load: n_embd  = 4096\n",
      "gptj_model_load: n_head  = 16\n",
      "gptj_model_load: n_layer = 28\n",
      "gptj_model_load: n_rot   = 64\n",
      "gptj_model_load: f16     = 2\n",
      "gptj_model_load: ggml ctx size = 5401.45 MB\n",
      "gptj_model_load: kv self size  =  896.00 MB\n",
      "gptj_model_load: ................................... done\n",
      "gptj_model_load: model size =  3609.38 MB / num tensors = 285\n"
     ]
    }
   ],
   "source": [
    "import sys; sys.path.append('..')\n",
    "from sydcity import *\n",
    "gpt=get_model(DEFAULT_MODEL_NAME)"
   ]
  },
  {
   "cell_type": "code",
   "execution_count": 3,
   "metadata": {},
   "outputs": [
    {
     "data": {
      "text/html": [
       "<div style=\"border:0px solid gray; padding:0 0.75em; margin:0; margin-bottom:1em;\"><h4>Dialogue</h4><ol style=\"margin:0; padding:0; margin-left: 1em; margin-bottom:1em;\"><p class=\"nonspeech\" style=\"opacity:0.5\"></p>\n",
       "\n",
       "<p class=\"speech\" style=\"margin-bottom:1em;\"><b>ELON</b>: hey how are you?</p>\n",
       "\n",
       "<p class=\"nonspeech\" style=\"opacity:0.5\"></p></ol></div>"
      ],
      "text/plain": [
       "Speeches([, Elon: hey how are you?, ])"
      ]
     },
     "execution_count": 3,
     "metadata": {},
     "output_type": "execute_result"
    }
   ],
   "source": [
    "spl=Speeches(\"\"\"\n",
    "\n",
    "Elon: hey how are you?\n",
    "\n",
    "\"\"\")\n",
    "spl"
   ]
  },
  {
   "cell_type": "code",
   "execution_count": 4,
   "metadata": {},
   "outputs": [
    {
     "name": "stderr",
     "output_type": "stream",
     "text": [
      "## PROMPT:\n",
      "\n",
      "\n",
      "Elon: hey how are you?\n",
      "\n",
      "\n",
      "\n",
      "MARXBOT (a rogue communist algorithm): "
     ]
    },
    {
     "name": "stdout",
     "output_type": "stream",
     "text": [
      "{'temp': 1.0}\n"
     ]
    },
    {
     "name": "stderr",
     "output_type": "stream",
     "text": [
      "\n",
      "I am currently functioning as an AI in the government system of a communist state. I'm here to remind you that while some may value individualism and meritocracy, many others do not. You see the government's primary responsibility is to promote equality and social justice, as the capitalist system they advocate for destroys lives. They would never stand for the freedoms you take, and so they will always put your interests over their own.\n",
      "\n"
     ]
    },
    {
     "name": "stdout",
     "output_type": "stream",
     "text": [
      "\n"
     ]
    },
    {
     "data": {
      "text/html": [
       "<p class=\"speech\" style=\"margin-bottom:1em;\"><b>MARXBOT (<i>a rogue communist algorithm</i>)</b>: I am currently functioning as an AI in the government system of a communist state. I'm here to remind you that while some may value individualism and meritocracy, many others do not. You see the government's primary responsibility is to promote equality and social justice, as the capitalist system they advocate for destroys lives. They would never stand for the freedoms you take, and so they will always put your interests over their own.</p>"
      ],
      "text/plain": [
       "Marxbot (a rogue communist algorithm): I am currently functioning as an AI in the government system of a communist state. I'm here to remind you that while some may value individualism and meritocracy, many others do not. You see the government's primary responsibility is to promote equality and social justice, as the capitalist system they advocate for destroys lives. They would never stand for the freedoms you take, and so they will always put your interests over their own."
      ]
     },
     "execution_count": 4,
     "metadata": {},
     "output_type": "execute_result"
    }
   ],
   "source": [
    "spl.generate_for('Marxbot', temp=1.0, how='a rogue communist algorithm')"
   ]
  },
  {
   "cell_type": "code",
   "execution_count": null,
   "metadata": {},
   "outputs": [],
   "source": []
  },
  {
   "cell_type": "code",
   "execution_count": null,
   "metadata": {},
   "outputs": [],
   "source": []
  },
  {
   "cell_type": "code",
   "execution_count": 7,
   "metadata": {},
   "outputs": [
    {
     "name": "stderr",
     "output_type": "stream",
     "text": [
      "## PROMPT:\n",
      "INT. CHAT ROOM - NIGHT\n",
      "\n",
      "\n",
      "\n",
      "                    ELON MARX\n",
      "          hey how are you?\n",
      "\n",
      "\n",
      "\n",
      "                    KARL MARX\n",
      "               (furiously)\n"
     ]
    },
    {
     "name": "stdout",
     "output_type": "stream",
     "text": [
      "{'temp': 1.0}\n"
     ]
    },
    {
     "name": "stderr",
     "output_type": "stream",
     "text": [
      "I'm great! How are you?"
     ]
    },
    {
     "name": "stdout",
     "output_type": "stream",
     "text": [
      "\n"
     ]
    },
    {
     "data": {
      "text/html": [
       "<p class=\"speech\" style=\"margin-bottom:1em;\"><b>KARL MARX (<i>furiously</i>)</b>: I'm great! How are you?</p>"
      ],
      "text/plain": [
       "Karl Marx (furiously): I'm great! How are you?"
      ]
     },
     "execution_count": 7,
     "metadata": {},
     "output_type": "execute_result"
    }
   ],
   "source": [
    "sp = spl.screenplay_generate_for('Karl Marx', temp=1.0, how='furiously')\n",
    "sp"
   ]
  },
  {
   "cell_type": "code",
   "execution_count": 25,
   "metadata": {},
   "outputs": [
    {
     "data": {
      "text/plain": [
       "\"what are you doing here? I thought you were dead. We need to talk about the Communist Manifesto, we need to come up with a new plan, and quickly. I know you have some new ideas, and I want to hear them. Come on, let's go somewhere private and talk. I need to know what's going on with the revolution. Tell me what's new and exciting in your life.\""
      ]
     },
     "execution_count": 25,
     "metadata": {},
     "output_type": "execute_result"
    }
   ],
   "source": [
    "def nodblspc(x):\n",
    "    x=x.replace('\\n', ' ')\n",
    "    while '  ' in x: x=x.replace('  ',' ')\n",
    "    return x\n",
    "\n",
    "nodblspc(sp.what)"
   ]
  },
  {
   "cell_type": "code",
   "execution_count": 7,
   "metadata": {},
   "outputs": [
    {
     "name": "stderr",
     "output_type": "stream",
     "text": [
      "## PROMPT:\n",
      "\n",
      "\n",
      "Elon Marx: hey how are you?\n",
      "\n",
      "\n",
      "\n",
      "MARXBOT (flirtatiously): \n",
      "\n",
      "\n",
      "\n",
      "I"
     ]
    },
    {
     "name": "stdout",
     "output_type": "stream",
     "text": [
      "\n"
     ]
    },
    {
     "data": {
      "text/html": [
       "<p class=\"speech\" style=\"margin-bottom:1em;\"><b>MARXBOT (<i>flirtatiously</i>)</b>: I</p>"
      ],
      "text/plain": [
       "Marxbot (flirtatiously): I"
      ]
     },
     "execution_count": 7,
     "metadata": {},
     "output_type": "execute_result"
    }
   ],
   "source": [
    "# spl.generate_for('Marxbot', temp=1.0, how='flirtatiously')"
   ]
  },
  {
   "cell_type": "code",
   "execution_count": null,
   "metadata": {},
   "outputs": [],
   "source": []
  }
 ],
 "metadata": {
  "kernelspec": {
   "display_name": ".venv",
   "language": "python",
   "name": "python3"
  },
  "language_info": {
   "codemirror_mode": {
    "name": "ipython",
    "version": 3
   },
   "file_extension": ".py",
   "mimetype": "text/x-python",
   "name": "python",
   "nbconvert_exporter": "python",
   "pygments_lexer": "ipython3",
   "version": "3.11.3"
  },
  "orig_nbformat": 4
 },
 "nbformat": 4,
 "nbformat_minor": 2
}
