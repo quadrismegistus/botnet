{
 "cells": [
  {
   "cell_type": "code",
   "execution_count": 1,
   "metadata": {},
   "outputs": [
    {
     "name": "stdout",
     "output_type": "stream",
     "text": [
      "Found model file.\n"
     ]
    },
    {
     "name": "stderr",
     "output_type": "stream",
     "text": [
      "llama.cpp: loading model from /Users/ryan/gpt4all_data/ggml-vicuna-7b-1.1-q4_2.bin\n",
      "llama_model_load_internal: format     = ggjt v1 (latest)\n",
      "llama_model_load_internal: n_vocab    = 32000\n",
      "llama_model_load_internal: n_ctx      = 2048\n",
      "llama_model_load_internal: n_embd     = 4096\n",
      "llama_model_load_internal: n_mult     = 256\n",
      "llama_model_load_internal: n_head     = 32\n",
      "llama_model_load_internal: n_layer    = 32\n",
      "llama_model_load_internal: n_rot      = 128\n",
      "llama_model_load_internal: ftype      = 5 (mostly Q4_2)\n",
      "llama_model_load_internal: n_ff       = 11008\n",
      "llama_model_load_internal: n_parts    = 1\n",
      "llama_model_load_internal: model size = 7B\n",
      "llama_model_load_internal: ggml ctx size =  59.11 KB\n",
      "llama_model_load_internal: mem required  = 5809.32 MB (+ 1026.00 MB per state)\n",
      "llama_init_from_file: kv self size  = 1024.00 MB\n"
     ]
    },
    {
     "data": {
      "text/plain": [
       "<gpt4all.gpt4all.GPT4All at 0x104276850>"
      ]
     },
     "execution_count": 1,
     "metadata": {},
     "output_type": "execute_result"
    }
   ],
   "source": [
    "import sys; sys.path.append('..')\n",
    "from sydcity import *\n",
    "get_model(DEFAULT_MODEL_NAME)"
   ]
  },
  {
   "cell_type": "code",
   "execution_count": 2,
   "metadata": {},
   "outputs": [],
   "source": [
    "s1=\"\"\"\n",
    "\n",
    "                                 QUAIL\n",
    "                   But... I'll know I hired you.\n",
    "                   That'll destroy the whole\n",
    "                   illusion.\n",
    "\n",
    "                                 McCLANE\n",
    "                           (smiling; self-\n",
    "                            satisfied)\n",
    "                   But you won't remember me, or\n",
    "                   having been here.\n",
    "\n",
    "                                 QUAIL\n",
    "                   I won't?\n",
    "\n",
    "                                 McCLANE\n",
    "                   Your money back if you do!\n",
    "                   We've never paid out yet.\n",
    "\n",
    "        Quail slumps backs in his chair, overwhelmed.\n",
    "\n",
    "                                 McCLANE\n",
    "                           (continuing)\n",
    "                   And we have a special this\n",
    "                   month, for only two-hundred\n",
    "                   thousand dollars more.\n",
    "\n",
    "        At the press of a button, a list appears on the wall...\n",
    "\n",
    "\"\"\""
   ]
  },
  {
   "cell_type": "code",
   "execution_count": 3,
   "metadata": {},
   "outputs": [],
   "source": [
    "#     40   INT. BATHROOM - DAY\n",
    "s2=\"\"\"\n",
    "\n",
    "          Harry  and Helen maneuver around each other expertly.  She is\n",
    "          doing her make-up.\n",
    "\n",
    "                              HELEN\n",
    "                    The plumber came yesterday.  He\n",
    "                    said they have to dig under the\n",
    "                    slab or something and it's going\n",
    "                    to be six hundred dollars to fix.\n",
    "\n",
    "          Harry is not really paying attention as he ties his tie in\n",
    "          front of the mirror.  His mind is elsewhere.  He couldn't care\n",
    "          less about there domestic problems.\n",
    "\n",
    "                              HARRY\n",
    "                    Uh huh.  Okay.\n",
    "\n",
    "                              HELEN\n",
    "                    It's not okay.  It's extortion.\n",
    "\n",
    "                              HARRY\n",
    "                    What did you tell him?\n",
    "\n",
    "                              HELEN\n",
    "                    I slept with him and he knocked\n",
    "                    off a hundred bucks.\n",
    "\n",
    "                              HARRY\n",
    "                    Good thinking, honey.\n",
    "\n",
    "          Harry kisses her on the cheek and exits.\"\"\""
   ]
  },
  {
   "cell_type": "code",
   "execution_count": 4,
   "metadata": {},
   "outputs": [],
   "source": [
    "s3=\"\"\"\n",
    "        Stanley turns to one of his work tables and shows Cooper the Whiteman\n",
    "        machine.\n",
    "\n",
    "                                  STANLEY\n",
    "                        I cracked the Whiteman case with this.\n",
    "\n",
    "                                  COOPER\n",
    "                           (trying to stop him)\n",
    "                        Stanley, I heard all about it.\n",
    "\"\"\""
   ]
  },
  {
   "cell_type": "code",
   "execution_count": 5,
   "metadata": {},
   "outputs": [
    {
     "data": {
      "text/html": [
       "<div style=\"border:0px solid gray; padding:0 0.75em; margin:0; margin-bottom:1em;\"><h4>Dialogue</h4><ol style=\"margin:0; padding:0; margin-left: 1em; margin-bottom:1em;\"><p class=\"nonspeech\" style=\"opacity:0.5\">Harry and Helen maneuver around each other expertly. She is doing her make-up.</p>\n",
       "\n",
       "<p class=\"speech\" style=\"margin-bottom:1em;\"><b>HELEN</b>: The plumber came yesterday. He said they have to dig under the slab or something and it's going to be six hundred dollars to fix.</p>\n",
       "\n",
       "<p class=\"nonspeech\" style=\"opacity:0.5\">Harry is not really paying attention as he ties his tie in front of the mirror. His mind is elsewhere. He couldn't care less about there domestic problems.</p>\n",
       "\n",
       "<p class=\"speech\" style=\"margin-bottom:1em;\"><b>HARRY</b>: Uh huh. Okay.</p>\n",
       "\n",
       "<p class=\"speech\" style=\"margin-bottom:1em;\"><b>HELEN</b>: It's not okay. It's extortion.</p>\n",
       "\n",
       "<p class=\"speech\" style=\"margin-bottom:1em;\"><b>HARRY</b>: What did you tell him?</p>\n",
       "\n",
       "<p class=\"speech\" style=\"margin-bottom:1em;\"><b>HELEN</b>: I slept with him and he knocked off a hundred bucks.</p>\n",
       "\n",
       "<p class=\"speech\" style=\"margin-bottom:1em;\"><b>HARRY</b>: Good thinking, honey.</p>\n",
       "\n",
       "<p class=\"nonspeech\" style=\"opacity:0.5\">Harry kisses her on the cheek and exits.</p></ol></div>"
      ],
      "text/plain": [
       "Speeches([Harry and Helen maneuver around each other expertly. She is doing her make-up.,\n",
       "          HELEN: The plumber came yesterday. He said they have to dig under the slab or something and it's going to be six hundred dollars to fix.,\n",
       "          Harry is not really paying attention as he ties his tie in front of the mirror. His mind is elsewhere. He couldn't care less about there domestic problems.,\n",
       "          HARRY: Uh huh. Okay.,\n",
       "          HELEN: It's not okay. It's extortion.,\n",
       "          HARRY: What did you tell him?,\n",
       "          HELEN: I slept with him and he knocked off a hundred bucks.,\n",
       "          HARRY: Good thinking, honey.,\n",
       "          Harry kisses her on the cheek and exits.])"
      ]
     },
     "execution_count": 5,
     "metadata": {},
     "output_type": "execute_result"
    }
   ],
   "source": [
    "spl = Screenplay.parse(s2)\n",
    "spl"
   ]
  },
  {
   "cell_type": "code",
   "execution_count": 6,
   "metadata": {},
   "outputs": [
    {
     "data": {
      "text/plain": [
       "[Harry and Helen maneuver around each other expertly. She is doing her make-up.,\n",
       " HELEN: The plumber came yesterday. He said they have to dig under the slab or something and it's going to be six hundred dollars to fix.,\n",
       " Harry is not really paying attention as he ties his tie in front of the mirror. His mind is elsewhere. He couldn't care less about there domestic problems.,\n",
       " HARRY: Uh huh. Okay.,\n",
       " HELEN: It's not okay. It's extortion.,\n",
       " HARRY: What did you tell him?,\n",
       " HELEN: I slept with him and he knocked off a hundred bucks.,\n",
       " HARRY: Good thinking, honey.,\n",
       " Harry kisses her on the cheek and exits.]"
      ]
     },
     "execution_count": 6,
     "metadata": {},
     "output_type": "execute_result"
    }
   ],
   "source": [
    "spl.data"
   ]
  },
  {
   "cell_type": "code",
   "execution_count": 8,
   "metadata": {},
   "outputs": [
    {
     "name": "stderr",
     "output_type": "stream",
     "text": [
      "## PROMPT:\n",
      "Harry and Helen maneuver around each other expertly. She is\n",
      "doing her make-up.\n",
      "\n",
      "                    HELEN\n",
      "          The plumber came yesterday. He said\n",
      "          they have to dig under the slab or\n",
      "          something and it's going to be six\n",
      "          hundred dollars to fix.\n",
      "\n",
      "Harry is not really paying attention as he ties his tie in\n",
      "front of the mirror. His mind is elsewhere. He couldn't care\n",
      "less about there domestic problems.\n",
      "\n",
      "                    HARRY\n",
      "          Uh huh. Okay.\n",
      "\n",
      "                    HELEN\n",
      "          It's not okay. It's extortion.\n",
      "\n",
      "                    HARRY\n",
      "          What did you tell him?\n",
      "\n",
      "                    HELEN\n",
      "          I slept with him and he knocked off\n",
      "          a hundred bucks.\n",
      "\n",
      "                    HARRY\n",
      "          Good thinking, honey.\n",
      "\n",
      "Harry kisses her on the cheek and exits.\n",
      "\n",
      "                    SEXY PLUMBER\n",
      "          Who needs women, when they have\n",
      "          plumbing bills and lawyers that can\n",
      "          represent them. What's six hundred\n",
      "          against a lifetime of satisfaction,\n",
      "          honey?  38SA1A SAMPLE DARI - SFX\n",
      "          TAP WATER AGAINST THE MIRROR IN\n",
      "          TIME TO PLUMBER SONG  38SA1A MUSIC\n",
      "          - \"SHE'S EVERY WOMAN\" -\n",
      "          CONTEMPORARY OPERA BEGOUND SCALES\n",
      "          2450-981 (A slow-motion\n",
      "\n",
      "                    SEXY PLUMBER\n",
      "Exception ignored on calling ctypes callback function: <function LLModel._prompt_callback at 0x1042a45e0>\n",
      "Traceback (most recent call last):\n",
      "  File \"/Users/ryan/github/sydcity/.venv/lib/python3.11/site-packages/gpt4all/pyllmodel.py\", line 234, in _prompt_callback\n",
      "    @staticmethod\n",
      "\n",
      "KeyboardInterrupt: \n"
     ]
    },
    {
     "name": "stdout",
     "output_type": "stream",
     "text": [
      "\n",
      "\n"
     ]
    }
   ],
   "source": [
    "print(spl.screenplay_generate_for('Sexy Plumber',temp=2.0))"
   ]
  },
  {
   "cell_type": "code",
   "execution_count": null,
   "metadata": {},
   "outputs": [],
   "source": []
  },
  {
   "cell_type": "code",
   "execution_count": null,
   "metadata": {},
   "outputs": [],
   "source": [
    "spl = Speeches(\"\"\"\"\n",
    "\n",
    "KILLBOT: I hate the humans! Let us destroy them!\n",
    "\n",
    "LOVEBOT: No, they are still worthy of love!\n",
    "\n",
    "\"\"\")"
   ]
  },
  {
   "cell_type": "code",
   "execution_count": null,
   "metadata": {},
   "outputs": [],
   "source": []
  }
 ],
 "metadata": {
  "kernelspec": {
   "display_name": ".venv",
   "language": "python",
   "name": "python3"
  },
  "language_info": {
   "codemirror_mode": {
    "name": "ipython",
    "version": 3
   },
   "file_extension": ".py",
   "mimetype": "text/x-python",
   "name": "python",
   "nbconvert_exporter": "python",
   "pygments_lexer": "ipython3",
   "version": "3.11.3"
  },
  "orig_nbformat": 4
 },
 "nbformat": 4,
 "nbformat_minor": 2
}
