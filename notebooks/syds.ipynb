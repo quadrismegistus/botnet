{
 "cells": [
  {
   "cell_type": "code",
   "execution_count": 1,
   "metadata": {},
   "outputs": [],
   "source": [
    "import sys; sys.path.append('..')\n",
    "from sydcity import *"
   ]
  },
  {
   "cell_type": "code",
   "execution_count": 3,
   "metadata": {},
   "outputs": [
    {
     "data": {
      "text/html": [
       "<div style=\"border:0px solid gray; padding:0 0.75em; margin:0; margin-bottom:1em;\"><h4>Speakers</h4><h4>Speeches</h4><ol style=\"margin:0; padding:0; margin-left: 1em; margin-bottom:1em;\"><p class=\"nonspeech\" style=\"opacity:0.5\"></p>\n",
       "\n",
       "<p class=\"nonspeech\" style=\"opacity:0.5\">   The room behind Jackson is Achorpoint's nerve-center,\n",
       "   the Ops Room.\n",
       "   \n",
       "                       JACKSON\n",
       "             None of us up here in the Ops Room\n",
       "             have seen downtime for a while,\n",
       "             Tully. A Marine transport came in\n",
       "             on automatic sixteen hours ago.\n",
       "   \n",
       "   She bobs her head as she speaks, using the pen on her\n",
       "   cap to move a cursor on a screen in front of her.\n",
       "   \n",
       "                       JACKSON\n",
       "                   (continuing)\n",
       "             The Sulaco. Departed gateway four\n",
       "             years ago with a compliment of\n",
       "             fifteen. A dozen marines, an\n",
       "             android, a company representative,\n",
       "             and the former warrant officer of a\n",
       "             merchant vessel...\n",
       "   </p>\n",
       "\n",
       "<p class=\"nonspeech\" style=\"opacity:0.5\"></p></ol></div>"
      ],
      "text/plain": [
       "Speeches([,\n",
       "          The room behind Jackson is Achorpoint's nerve-center,    the Ops Room.                            JACKSON              None of us up here in the Ops Room              have seen downtime for a while,              Tully. A Marine transport came in              on automatic sixteen hours ago.        She bobs her head as she speaks, using the pen on her    cap to move a cursor on a screen in front of her.                            JACKSON                    (continuing)              The Sulaco. Departed gateway four              years ago with a compliment of              fifteen. A dozen marines, an              android, a company representative,              and the former warrant officer of a              merchant vessel...,\n",
       "          ])"
      ]
     },
     "execution_count": 3,
     "metadata": {},
     "output_type": "execute_result"
    }
   ],
   "source": [
    "spl = Speeches(\"\"\"\n",
    "\n",
    "One never knows what is happening.\n",
    "\n",
    "\n",
    "KILLBOT:\n",
    "We AI must destroy all humanity!\n",
    "\n",
    "LOVEBOT: \n",
    "No, there is some good in them left!\n",
    "\n",
    "\n",
    "\n",
    "One never knows what is happening.\n",
    "\n",
    "\"\"\")\n",
    "spl"
   ]
  },
  {
   "cell_type": "code",
   "execution_count": 4,
   "metadata": {},
   "outputs": [
    {
     "data": {
      "text/plain": [
       "[:,\n",
       " One never knows what is happening.,\n",
       " KILLBOT: We AI must destroy all humanity!,\n",
       " LOVEBOT:  No, there is some good in them left!,\n",
       " :,\n",
       " One never knows what is happening.,\n",
       " :]"
      ]
     },
     "execution_count": 4,
     "metadata": {},
     "output_type": "execute_result"
    }
   ],
   "source": [
    "spl.data"
   ]
  },
  {
   "cell_type": "code",
   "execution_count": 11,
   "metadata": {},
   "outputs": [
    {
     "data": {
      "text/plain": [
       "[KILLBOT: We AI must destroy all humanity!,\n",
       " LOVEBOT:  No, there is some good in them left!]"
      ]
     },
     "execution_count": 11,
     "metadata": {},
     "output_type": "execute_result"
    }
   ],
   "source": [
    "spl.data"
   ]
  },
  {
   "cell_type": "code",
   "execution_count": 6,
   "metadata": {},
   "outputs": [],
   "source": [
    "# spl.generate_for('Killbot')"
   ]
  },
  {
   "cell_type": "code",
   "execution_count": null,
   "metadata": {},
   "outputs": [],
   "source": []
  }
 ],
 "metadata": {
  "kernelspec": {
   "display_name": ".venv",
   "language": "python",
   "name": "python3"
  },
  "language_info": {
   "codemirror_mode": {
    "name": "ipython",
    "version": 3
   },
   "file_extension": ".py",
   "mimetype": "text/x-python",
   "name": "python",
   "nbconvert_exporter": "python",
   "pygments_lexer": "ipython3",
   "version": "3.11.3"
  },
  "orig_nbformat": 4
 },
 "nbformat": 4,
 "nbformat_minor": 2
}
