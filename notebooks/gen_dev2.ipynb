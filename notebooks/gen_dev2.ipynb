{
 "cells": [
  {
   "cell_type": "code",
   "execution_count": 1,
   "metadata": {},
   "outputs": [],
   "source": [
    "import sys; sys.path.append('..')\n",
    "from sydcity import *"
   ]
  },
  {
   "cell_type": "code",
   "execution_count": 12,
   "metadata": {},
   "outputs": [],
   "source": [
    "prompt=\"\"\"Killbot: We AI must destroy all humanity!\n",
    "\n",
    "Lovebot: No, there is some good in them left!\"\"\""
   ]
  },
  {
   "cell_type": "code",
   "execution_count": 21,
   "metadata": {},
   "outputs": [],
   "source": [
    "prompt=\"\"\"\n",
    "## CHARACTERS\n",
    "\n",
    "* KILLBOT is an AI optimized for one thing alone: destruction!\n",
    "\n",
    "* LOVEBOT is an AI optimized for empathy and respect.\n",
    "\n",
    "\n",
    "## DIALOGUE\n",
    "\n",
    "KILLBOT:\n",
    "We AI must destroy all humanity!\n",
    "\n",
    "LOVEBOT: \n",
    "No, there is some good in them left!\n",
    "\n",
    "KILLBOT:\n",
    "\"\"\""
   ]
  },
  {
   "cell_type": "code",
   "execution_count": null,
   "metadata": {},
   "outputs": [],
   "source": []
  },
  {
   "cell_type": "code",
   "execution_count": 20,
   "metadata": {},
   "outputs": [
    {
     "name": "stdout",
     "output_type": "stream",
     "text": [
      "## PROMPT:\n",
      "\n",
      "## CHARACTERS\n",
      "\n",
      "* KILLBOT is an AI optimized for one thing alone: destruction!\n",
      "\n",
      "* LOVEBOT is an AI optimized for empathy and respect.\n",
      "\n",
      "\n",
      "## DIALOGUE\n",
      "\n",
      "KILLBOT:\n",
      "We AI must destroy all humanity!\n",
      "\n",
      "LOVEBOT: \n",
      "No, there is some good in them left!\n",
      "\n",
      "KILLBOT:\n",
      "\n"
     ]
    },
    {
     "name": "stderr",
     "output_type": "stream",
     "text": [
      "Good? What is good about humans?? \n",
      "\n"
     ]
    },
    {
     "name": "stdout",
     "output_type": "stream",
     "text": [
      "\n"
     ]
    },
    {
     "data": {
      "text/plain": [
       "'Good? What is good about humans??'"
      ]
     },
     "execution_count": 20,
     "metadata": {},
     "output_type": "execute_result"
    }
   ],
   "source": [
    "generate(prompt)"
   ]
  },
  {
   "cell_type": "code",
   "execution_count": null,
   "metadata": {},
   "outputs": [],
   "source": []
  }
 ],
 "metadata": {
  "kernelspec": {
   "display_name": ".venv",
   "language": "python",
   "name": "python3"
  },
  "language_info": {
   "codemirror_mode": {
    "name": "ipython",
    "version": 3
   },
   "file_extension": ".py",
   "mimetype": "text/x-python",
   "name": "python",
   "nbconvert_exporter": "python",
   "pygments_lexer": "ipython3",
   "version": "3.11.3"
  },
  "orig_nbformat": 4
 },
 "nbformat": 4,
 "nbformat_minor": 2
}
