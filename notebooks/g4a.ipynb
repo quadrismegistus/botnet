{
 "cells": [
  {
   "cell_type": "code",
   "execution_count": 45,
   "metadata": {},
   "outputs": [],
   "source": [
    "import openai,os\n",
    "openai.api_base = \"https://api.openai.com/v1\"\n",
    "# openai.api_base = \"http://localhost:4891/v1\"\n",
    "openai.api_key_path = os.path.expanduser('~/.openai_key')\n",
    "model = \"gpt4all-l13b-snoozy\"\n"
   ]
  },
  {
   "cell_type": "code",
   "execution_count": 68,
   "metadata": {},
   "outputs": [],
   "source": [
    "def complete(\n",
    "    prompt:str='<|endoftext|>',\n",
    "    model:str=\"gpt-3.5-turbo\",\n",
    "    messages:list=[],\n",
    "    # suffix:str='',\n",
    "    max_tokens:int=16,\n",
    "    temperature:float=1.0,\n",
    "    top_p:float=1.0,\n",
    "    n:int=1,\n",
    "    stream:bool=False,\n",
    "    # logprobs:int=None,\n",
    "    # echo:bool=False,\n",
    "    # stop:list=[],\n",
    "    presence_penalty:float=0.0,\n",
    "    frequency_penalty:float=0.0,\n",
    "    # best_of:int=1,\n",
    "    logit_bias:dict={}):\n",
    "\n",
    "  # response = openai.Completion.create(\n",
    "  if not messages:\n",
    "    messages=[{'role':'user', 'content':prompt}]\n",
    "  \n",
    "  response = openai.ChatCompletion.create(\n",
    "    model=model,\n",
    "    # prompt=prompt,\n",
    "    messages=messages,\n",
    "    # suffix=suffix,\n",
    "    max_tokens=max_tokens,\n",
    "    temperature=temperature,\n",
    "    top_p=top_p,\n",
    "    n=n,\n",
    "    stream=stream,\n",
    "    # logprobs=logprobs,\n",
    "    # echo=echo,\n",
    "    # stop=stop,\n",
    "    presence_penalty=presence_penalty,\n",
    "    frequency_penalty=frequency_penalty,\n",
    "    # best_of=best_of,\n",
    "    logit_bias=logit_bias\n",
    "  )\n",
    "\n",
    "  # return [choice.message.content for choice in response.choices]\n",
    "  return response.choices[0].message.content"
   ]
  },
  {
   "cell_type": "code",
   "execution_count": 69,
   "metadata": {},
   "outputs": [],
   "source": [
    "complete('What is your name?')"
   ]
  },
  {
   "cell_type": "code",
   "execution_count": null,
   "metadata": {},
   "outputs": [],
   "source": []
  },
  {
   "cell_type": "code",
   "execution_count": null,
   "metadata": {},
   "outputs": [],
   "source": []
  }
 ],
 "metadata": {
  "kernelspec": {
   "display_name": "venv",
   "language": "python",
   "name": "python3"
  },
  "language_info": {
   "codemirror_mode": {
    "name": "ipython",
    "version": 3
   },
   "file_extension": ".py",
   "mimetype": "text/x-python",
   "name": "python",
   "nbconvert_exporter": "python",
   "pygments_lexer": "ipython3",
   "version": "3.9.13"
  },
  "orig_nbformat": 4
 },
 "nbformat": 4,
 "nbformat_minor": 2
}
