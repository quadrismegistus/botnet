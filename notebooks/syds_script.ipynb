{
 "cells": [
  {
   "cell_type": "code",
   "execution_count": 1,
   "metadata": {},
   "outputs": [],
   "source": [
    "import sys; sys.path.append('..')\n",
    "from sydcity import *"
   ]
  },
  {
   "cell_type": "code",
   "execution_count": 59,
   "metadata": {},
   "outputs": [],
   "source": [
    "s=\"\"\"\n",
    "   The room behind Jackson is Achorpoint's nerve-center,\n",
    "   the Ops Room.\n",
    "   \n",
    "                       JACKSON\n",
    "             None of us up here in the Ops Room\n",
    "             have seen downtime for a while,\n",
    "             Tully. A Marine transport came in\n",
    "             on automatic sixteen hours ago.\n",
    "   \n",
    "   She bobs her head as she speaks, using the pen on her\n",
    "   cap to move a cursor on a screen in front of her.\n",
    "   \n",
    "                       JACKSON\n",
    "                   (continuing)\n",
    "             The Sulaco. Departed gateway four\n",
    "             years ago with a compliment of\n",
    "             fifteen. A dozen marines, an\n",
    "             android, a company representative,\n",
    "             and the former warrant officer of a\n",
    "             merchant vessel...\n",
    "\"\"\""
   ]
  },
  {
   "cell_type": "code",
   "execution_count": 103,
   "metadata": {},
   "outputs": [],
   "source": [
    "class Screenplay:\n",
    "    def parse(script):\n",
    "        script_lines = script.split('\\n')\n",
    "        # split into paras\n",
    "        paras = []\n",
    "        para = []\n",
    "        for slinex in script_lines:\n",
    "            sline = slinex.strip()\n",
    "            if not sline and para:\n",
    "                paras.append(para)\n",
    "                para = []\n",
    "            elif sline:\n",
    "                para.append(sline)\n",
    "        if para: paras.append(para)\n",
    "\n",
    "        o = []\n",
    "        for para in paras:\n",
    "            who,how='',''\n",
    "            if len(para)>1 and para[0] == para[0].upper():\n",
    "                who,para = para[0],para[1:]\n",
    "            if len(para)>1 and para[0].startswith('(') or para[0].startswith('['):\n",
    "                how,para = para[0],para[1:]\n",
    "                how=how.strip(string.punctuation)\n",
    "            what=' '.join(para)\n",
    "\n",
    "            if who:\n",
    "                sp = Speech(who=who, what=what, how=how)\n",
    "            else:\n",
    "                sp = Speech(what)\n",
    "            o.append(sp)\n",
    "        return Speeches(o)"
   ]
  },
  {
   "cell_type": "code",
   "execution_count": 104,
   "metadata": {},
   "outputs": [
    {
     "data": {
      "text/html": [
       "<div style=\"border:0px solid gray; padding:0 0.75em; margin:0; margin-bottom:1em;\"><h4>Speakers</h4><h4>Speeches</h4><ol style=\"margin:0; padding:0; margin-left: 1em; margin-bottom:1em;\"><p class=\"nonspeech\" style=\"opacity:0.5\">The room behind Jackson is Achorpoint's nerve-center, the Ops Room.</p>\n",
       "\n",
       "<p class=\"speech\" style=\"margin-bottom:1em;\"><b>JACKSON</b>: None of us up here in the Ops Room have seen downtime for a while, Tully. A Marine transport came in on automatic sixteen hours ago.</p>\n",
       "\n",
       "<p class=\"nonspeech\" style=\"opacity:0.5\">She bobs her head as she speaks, using the pen on her cap to move a cursor on a screen in front of her.</p>\n",
       "\n",
       "<p class=\"speech\" style=\"margin-bottom:1em;\"><b>JACKSON (<i>continuing</i>)</b>: The Sulaco. Departed gateway four years ago with a compliment of fifteen. A dozen marines, an android, a company representative, and the former warrant officer of a merchant vessel...</p></ol></div>"
      ],
      "text/plain": [
       "Speeches([The room behind Jackson is Achorpoint's nerve-center, the Ops Room.,\n",
       "          ,\n",
       "          She bobs her head as she speaks, using the pen on her cap to move a cursor on a screen in front of her.,\n",
       "          ])"
      ]
     },
     "execution_count": 104,
     "metadata": {},
     "output_type": "execute_result"
    }
   ],
   "source": [
    "Screenplay.parse(s)"
   ]
  },
  {
   "cell_type": "code",
   "execution_count": 3,
   "metadata": {},
   "outputs": [
    {
     "name": "stdout",
     "output_type": "stream",
     "text": [
      "re.compile('^\\\\(.*?\\\\)') ??\n",
      "re.compile('^\\\\(.*?\\\\)') ??\n"
     ]
    }
   ],
   "source": [
    "sl=Speeches.from_script(s)"
   ]
  },
  {
   "cell_type": "code",
   "execution_count": 20,
   "metadata": {},
   "outputs": [
    {
     "data": {
      "text/html": [
       "<p class=\"speech\" style=\"margin-bottom:1em;\"><b>JACKSON</b>: The Sulaco. Departed gateway four years ago with a compliment of fifteen. A dozen marines, an android, a company representative, and the former warrant officer of a merchant vessel...</p>"
      ],
      "text/plain": []
     },
     "execution_count": 20,
     "metadata": {},
     "output_type": "execute_result"
    }
   ],
   "source": [
    "sl.data[-1]"
   ]
  },
  {
   "cell_type": "code",
   "execution_count": 5,
   "metadata": {},
   "outputs": [
    {
     "name": "stdout",
     "output_type": "stream",
     "text": [
      "                    RYAN\n",
      "               (helplessly)\n",
      "          ??\n"
     ]
    }
   ],
   "source": [
    "print(Speech(who='Ryan', how='helplessly', what='??').screenplay())"
   ]
  },
  {
   "cell_type": "code",
   "execution_count": 6,
   "metadata": {},
   "outputs": [],
   "source": [
    "# spl.generate_for('Killbot')"
   ]
  },
  {
   "cell_type": "code",
   "execution_count": null,
   "metadata": {},
   "outputs": [],
   "source": []
  }
 ],
 "metadata": {
  "kernelspec": {
   "display_name": ".venv",
   "language": "python",
   "name": "python3"
  },
  "language_info": {
   "codemirror_mode": {
    "name": "ipython",
    "version": 3
   },
   "file_extension": ".py",
   "mimetype": "text/x-python",
   "name": "python",
   "nbconvert_exporter": "python",
   "pygments_lexer": "ipython3",
   "version": "3.11.3"
  },
  "orig_nbformat": 4
 },
 "nbformat": 4,
 "nbformat_minor": 2
}
